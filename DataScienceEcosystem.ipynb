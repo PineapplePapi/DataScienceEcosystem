{
 "cells": [
  {
   "cell_type": "markdown",
   "id": "e4037321",
   "metadata": {},
   "source": [
    "# Data Science Tools and Ecosystem"
   ]
  },
  {
   "cell_type": "markdown",
   "id": "53f7cb28",
   "metadata": {},
   "source": [
    "In this notebook, Data Science Tools and Ecosystem are summarized."
   ]
  },
  {
   "cell_type": "markdown",
   "id": "ac7dafeb",
   "metadata": {},
   "source": [
    "Objetives:\n",
    "* List popular languages for Data Science\n",
    "* List of commonly used libraries for Data Science\n",
    "* List of some open source tools for Data Science developers\n",
    "* Examples of some arithmetic expressions in Python"
   ]
  },
  {
   "cell_type": "markdown",
   "id": "664683f2",
   "metadata": {},
   "source": [
    "Some of the popular languages that Data Scientists use are: \n",
    "1. R\n",
    "2. Python\n",
    "3. MATLAB\n",
    "4. Julia\n",
    "5. Scala"
   ]
  },
  {
   "cell_type": "markdown",
   "id": "f29a23df",
   "metadata": {},
   "source": [
    "Some of the commonly used libraries used by Data Scientists include:\n",
    "1. Pandas\n",
    "2. Numpy\n",
    "3. SciPy\n",
    "4. Scikit-learn\n",
    "5. TensorFlow\n",
    "6. ggplot2\n",
    "7. dplyr"
   ]
  },
  {
   "cell_type": "markdown",
   "id": "ee04c427",
   "metadata": {},
   "source": [
    "|Data Science Tools|\n",
    "|------------------|\n",
    "|RStudio|\n",
    "|Jupyter Notebooks|\n",
    "|VisualStudio Code|\n",
    "\n"
   ]
  },
  {
   "cell_type": "markdown",
   "id": "fb3846e7",
   "metadata": {},
   "source": [
    "### Below are a few examples of evaluating arithmetic expressions in Python"
   ]
  },
  {
   "cell_type": "code",
   "execution_count": 9,
   "id": "21799f07",
   "metadata": {},
   "outputs": [
    {
     "name": "stdout",
     "output_type": "stream",
     "text": [
      "17\n"
     ]
    }
   ],
   "source": [
    "# This is a simple arithmetic expression to multiply then add integers.\n",
    "x = (3*4)+5\n",
    "print (x)"
   ]
  },
  {
   "cell_type": "code",
   "execution_count": 14,
   "id": "cc294117",
   "metadata": {},
   "outputs": [
    {
     "name": "stdout",
     "output_type": "stream",
     "text": [
      "3.33\n"
     ]
    }
   ],
   "source": [
    "# This will convert 200 min to hours by diving by 60\n",
    "mintohour = (200 / 60)\n",
    "mintohour = round(mintohour,2)\n",
    "print (mintohour)"
   ]
  },
  {
   "cell_type": "markdown",
   "id": "1534fc14",
   "metadata": {},
   "source": [
    "## Author\n",
    "Nícolas Ilich Díaz González"
   ]
  }
 ],
 "metadata": {
  "kernelspec": {
   "display_name": "Python 3 (ipykernel)",
   "language": "python",
   "name": "python3"
  },
  "language_info": {
   "codemirror_mode": {
    "name": "ipython",
    "version": 3
   },
   "file_extension": ".py",
   "mimetype": "text/x-python",
   "name": "python",
   "nbconvert_exporter": "python",
   "pygments_lexer": "ipython3",
   "version": "3.11.5"
  }
 },
 "nbformat": 4,
 "nbformat_minor": 5
}
